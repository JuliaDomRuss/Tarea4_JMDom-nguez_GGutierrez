{
 "cells": [
  {
   "cell_type": "markdown",
   "metadata": {},
   "source": [
    "<img style=\"float: left; margin: 30px 15px 15px 15px;\" src=\"https://pngimage.net/wp-content/uploads/2018/06/logo-iteso-png-5.png\" width=\"300\" height=\"500\" /> \n",
    "    \n",
    "    \n",
    "### <font color='navy'> Simulación de procesos financieros. \n",
    "\n",
    "**Nombres:** Julia Dominguez Russell y Gerardo Gutiérrez Estrada \n",
    "\n",
    "**Fecha:** 10 de marzo del 2023.\n",
    "\n",
    "**Expediente** : 729878\n",
    "**Profesor:** Oscar David Jaramillo Zuluaga.\n",
    "    \n",
    "**Link Github**: https://github.com/JuliaDomRuss/Tarea4_JMDom-nguez_GGutierrez\n",
    "\n",
    "# Tarea 4: Clase 9 y 10"
   ]
  },
  {
   "cell_type": "markdown",
   "metadata": {
    "tags": []
   },
   "source": [
    "### Ejercicio 1:\n",
    "> Para las siguiente dos funciones, genere muestres aleatorias que distribuyan según la función dada usando el método de la transformada inversa y grafique el histograma de 1000 muestras generadas con el método de la transformada inversa y compárela con el función $f(x)$ **(recuerde que $f(x)$ es la distribución de probabilidad y $F(x)$ es la distribución de probabilidad acumulada)** [ver este enlace para más información](https://es.wikipedia.org/wiki/Funci%C3%B3n_de_distribuci%C3%B3n). Este procedimiento se realiza con el fín de validar que el procedimiento y los resultados son correctos.\n",
    "    \n",
    "> 1. Generación variable aleatoria continua\n",
    ">El tiempo en el cual un movimiento browniano se mantiene sobre su punto máximo en el intervalo [0,1] tiene una distribución\n",
    ">$$F(x)=\\frac{2}{\\pi}\\sin^{-1}(\\sqrt x),\\quad 0\\leq x\\leq 1$$ </font>\n",
    "\n",
    "> 2. Generación variable aleatoria Discreta\n",
    "> La distribución binomial modela el número de éxitos de n ensayos independientes donde hay una probabilidad p de éxito en cada ensayo.\n",
    "> Generar una variable aletoria binomial con parámetros $n=10$ y $p=0.7$. Recordar que $$X\\sim binomial(n,p) \\longrightarrow p_i=P(X=i)=\\frac{n!}{i!(n-i)!}p^i(1-p)^{n-i},\\quad i=0,1,\\cdots,n$$\n",
    "> Por propiedades de la operación factorial la anterior $p_i$ se puede escribir como:\n",
    "> $$p_{i+1}=\\frac{n-i}{i+1}\\frac{p}{1-p} p_i $$\n",
    "\n",
    "> **Nota:** Por notación recuerde que para el caso continuo $f(x)$ es la distribución de probabilidad (PDF), mientras $F(x)$ corresponde a la distribución de probabilidad acumulada (CDF). Para el caso discreto, $P(X=i)$ corresponde a su distribución de probabilidad (PMF) y $ F_{X}(x)=\\operatorname {P} (X\\leq x)=\\sum _{x_{i}\\leq x}\\operatorname {P} (X=x_{i})=\\sum _{x_{i}\\leq x}p(x_{i})$, corresponde a su distribución de probabilidad acumulada (CDF)."
   ]
  },
  {
   "cell_type": "markdown",
   "metadata": {},
   "source": [
    "Código de solución estudiante 1"
   ]
  },
  {
   "cell_type": "code",
   "execution_count": 3,
   "metadata": {},
   "outputs": [],
   "source": [
    "# Importamos las librerías principales\n",
    "import numpy as np\n",
    "import matplotlib.pyplot as plt\n",
    "import pandas as pd\n",
    "import scipy.stats as st    \n",
    "from math import factorial as fac \n",
    "from scipy.special import comb \n",
    "import math"
   ]
  },
  {
   "cell_type": "markdown",
   "metadata": {},
   "source": [
    "$$F(x)=\\frac{2}{\\pi}\\sin^{-1}(\\sqrt x),\\quad 0\\leq x\\leq 1$$ \n",
    "\n",
    "Obtenemos la función inversa:\n",
    "\n",
    "$$\\frac{2}{\\pi}\\sin^{-1}(\\sqrt x)=U$$\n",
    "\n",
    "$$\\sin^{-1}(\\sqrt x)= \\frac{U\\pi}{2}$$\n",
    "\n",
    "$$\\sin{\\sin^{-1}(\\sqrt x)}= \\sin{\\frac{U\\pi}{2}}$$\n",
    "\n",
    "$$\\sqrt x= \\sin{\\frac{U\\pi}{2}}$$\n",
    "\n",
    "$$(\\sqrt x)^2= (\\sin{\\frac{U\\pi}{2}})^2$$\n",
    "\n",
    "$$x= \\sin^2{\\frac{U\\pi}{2}}$$"
   ]
  },
  {
   "cell_type": "code",
   "execution_count": 4,
   "metadata": {},
   "outputs": [],
   "source": [
    "def D_sin (N):\n",
    "    return (np.sin((np.random.rand(N)*np.pi)/2))**2"
   ]
  },
  {
   "cell_type": "code",
   "execution_count": 5,
   "metadata": {
    "scrolled": false
   },
   "outputs": [
    {
     "name": "stdout",
     "output_type": "stream",
     "text": [
      "0.49997360593904855\n"
     ]
    },
    {
     "data": {
      "image/png": "[encoded data removed]",
      "text/plain": [
       "<Figure size 640x480 with 1 Axes>"
      ]
     },
     "metadata": {},
     "output_type": "display_data"
    }
   ],
   "source": [
    "#Generación variable aleatoria continua\n",
    "N= 10**6\n",
    "x= D_sin(N)\n",
    "\n",
    "# Graficamos el histograma para x\n",
    "plt.hist(x,100,density=True)\n",
    "plt.xlabel('valores aleatorios')\n",
    "plt.ylabel('probabilidad')\n",
    "print(np.mean(x))\n",
    "plt.show()\n"
   ]
  },
  {
   "cell_type": "code",
   "execution_count": 6,
   "metadata": {},
   "outputs": [],
   "source": [
    "#Generación variable aleatoria Discreta\n",
    "\n",
    "def Gen_distr_discreta(p_acum: 'P.Acumulada de la distribución a generar',\n",
    "                       indices: 'valores reales a generar aleatoriamente',\n",
    "                       N: 'cantidad de números aleatorios a generar'):\n",
    "    \n",
    "    U =np.random.rand(N)\n",
    "    # Diccionario de valores aleatorios\n",
    "    v = {i: val for i, val in enumerate(indices)}\n",
    "    # Series de los valores aletorios generados\n",
    "    resultado = pd.Series([sum([1 for i in p_acum if i<ui]) for ui in U]).map(v)\n",
    "\n",
    "    return resultado"
   ]
  },
  {
   "cell_type": "code",
   "execution_count": 7,
   "metadata": {},
   "outputs": [],
   "source": [
    "n = 10\n",
    "p= 0.7\n",
    "i= np.arange(0,n+1)\n",
    "\n",
    "def P_acum_Binomial(n,p):\n",
    "    Pr = np.zeros(n)\n",
    "    Pr[0] = (1-p)**n\n",
    "    def pr(i):\n",
    "        nonlocal Pr\n",
    "        c  = p/(1-p)\n",
    "        Pr[i+1]=(c*(n-i)/(i+1))*Pr[i]\n",
    "        \n",
    "    # Lleno el vector Pr usando compresión de listas\n",
    "    [pr(i) for i in range(n-1)]\n",
    "    return np.cumsum(Pr)\n",
    "p_acum = P_acum_Binomial(n,p)"
   ]
  },
  {
   "cell_type": "code",
   "execution_count": 8,
   "metadata": {
    "scrolled": false
   },
   "outputs": [
    {
     "data": {
      "text/plain": [
       "0       8\n",
       "1       6\n",
       "2       6\n",
       "3       5\n",
       "4       8\n",
       "       ..\n",
       "9995    6\n",
       "9996    5\n",
       "9997    8\n",
       "9998    8\n",
       "9999    6\n",
       "Length: 10000, dtype: int32"
      ]
     },
     "execution_count": 8,
     "metadata": {},
     "output_type": "execute_result"
    }
   ],
   "source": [
    "N = 10**4\n",
    "\n",
    "binomial = Gen_distr_discreta(p_acum, i, N)\n",
    "binomial"
   ]
  },
  {
   "cell_type": "code",
   "execution_count": 9,
   "metadata": {},
   "outputs": [],
   "source": [
    "def plot_histogram_discrete(distribucion:'señal de varibles aleatorias de un distribución DISCRETA dada',\n",
    "                            label:'label del legend a aparecer en el gráfica',\n",
    "                            densidad:'por defecto regresa el histograma en densidad'=True):\n",
    "    # len(set(distribucion)) cuenta la cantidad de elementos distintos de la variable 'distribucion'\n",
    "    plt.figure(figsize=[10,4])\n",
    "    y, x = np.histogram(distribucion, bins=len(set(distribucion)), density=densidad) \n",
    "    plt.bar(x[1:], y, label=label)\n",
    "    plt.legend()\n",
    "    plt.show()"
   ]
  },
  {
   "cell_type": "code",
   "execution_count": 10,
   "metadata": {
    "scrolled": false
   },
   "outputs": [
    {
     "data": {
      "image/png": "[encoded data removed]",
      "text/plain": [
       "<Figure size 1000x400 with 1 Axes>"
      ]
     },
     "metadata": {},
     "output_type": "display_data"
    }
   ],
   "source": [
    "plot_histogram_discrete(binomial, 'Con Función Creada' )"
   ]
  },
  {
   "cell_type": "code",
   "execution_count": 11,
   "metadata": {
    "scrolled": true
   },
   "outputs": [
    {
     "data": {
      "image/png": "[encoded data removed]",
      "text/plain": [
       "<Figure size 1000x400 with 1 Axes>"
      ]
     },
     "metadata": {},
     "output_type": "display_data"
    }
   ],
   "source": [
    "binomial_np= np.random.binomial(n,p,N)\n",
    "plot_histogram_discrete(binomial_np, 'Con Numpy' )"
   ]
  },
  {
   "cell_type": "markdown",
   "metadata": {},
   "source": [
    "Código de solución estudiante 2"
   ]
  },
  {
   "cell_type": "code",
   "execution_count": 2,
   "metadata": {},
   "outputs": [],
   "source": [
    "import numpy as np\n",
    "import matplotlib.pyplot as plt\n",
    "import pandas as pd"
   ]
  },
  {
   "cell_type": "code",
   "execution_count": 22,
   "metadata": {},
   "outputs": [
    {
     "name": "stdout",
     "output_type": "stream",
     "text": [
      "0.5002167878429615\n"
     ]
    },
    {
     "data": {
      "image/png": "[encoded data removed]",
      "text/plain": [
       "<Figure size 432x288 with 1 Axes>"
      ]
     },
     "metadata": {
      "needs_background": "light"
     },
     "output_type": "display_data"
    }
   ],
   "source": [
    "# Código de solución estudiante 1\n",
    "def funcion(N):\n",
    "    return 2/np.pi*np.arcsin(np.sqrt(np.random.random(N)))\n",
    "\n",
    "# Número de muestras\n",
    "N = 10**6 \n",
    "\n",
    "# creamos muestras exponenciales con la función creada\n",
    "x = funcion(N)\n",
    "\n",
    "# Graficamos el histograma para x\n",
    "plt.hist(x,100,density=True)\n",
    "plt.xlabel('valores aleatorios')\n",
    "plt.ylabel('probabilidad')\n",
    "plt.title('histograma función de numpy')\n",
    "print(np.mean(x))\n",
    "plt.show()"
   ]
  },
  {
   "cell_type": "code",
   "execution_count": 7,
   "metadata": {},
   "outputs": [
    {
     "data": {
      "image/png": "[encoded data removed]",
      "text/plain": [
       "<Figure size 720x288 with 1 Axes>"
      ]
     },
     "metadata": {
      "needs_background": "light"
     },
     "output_type": "display_data"
    }
   ],
   "source": [
    "def plot_histogram_discrete(distribucion:'señal de variables aleatorias de un distribución DISCRETA dada',\n",
    "                            label:'label del legend a aparecer en el gráfica',\n",
    "                            densidad:'por defecto regresa el histograma en densidad'=True):\n",
    "    # len(set(distribucion)) cuenta la cantidad de elementos distintos de la variable 'distribucion'\n",
    "    plt.figure(figsize=[10,4])\n",
    "    y, x = np.histogram(distribucion, bins=len(set(distribucion)), density=densidad) \n",
    "    plt.bar(x[1:], y, label=label)\n",
    "    plt.legend()\n",
    "    plt.show()\n",
    "    \n",
    "# def D_binomial_intermedia(n,p,N):\n",
    "n = 10; p = 0.7; N = 10**4\n",
    "\n",
    "p_acum = P_acum_Binomial_o(n,p)\n",
    "\n",
    "# Usando numpy\n",
    "d_bino_numpy = np.random.binomial(n,p,N)\n",
    "\n",
    "plot_histogram_discrete(d_bino_numpy,\"Label\")"
   ]
  },
  {
   "cell_type": "markdown",
   "metadata": {},
   "source": [
    "### Respuesta planteada en el ejercicio usando (markdown)\n",
    " La respuesta es ........."
   ]
  },
  {
   "cell_type": "markdown",
   "metadata": {},
   "source": [
    "### Ejercicio 2:\n",
    "Demostrar la validez de la siguiente ecuación\n",
    ">$$p_{i+1}=\\frac{n-i}{i+1}\\frac{p}{1-p} p_i \\longrightarrow \\text{Hablar de las ventajas que sea recursiva}$$\n",
    "**El Algoritmo que debemos realizar:**\n",
    "   1. Generar $U$.\n",
    "   2. Si $U<p_0$, poner $X=0$ y detenerse.\n",
    "   3. Si $p_0<U<p_0+p_1$, poner $X=1$ y detenerse.\n",
    "   $$ \\vdots$$\n",
    "   4. Si $p_0+\\cdots+p_{n-1}<U<p_0+\\cdots+p_{n}$, poner $X=n$ y detenerse."
   ]
  },
  {
   "cell_type": "markdown",
   "metadata": {},
   "source": [
    "Código de solución estudiante 1"
   ]
  },
  {
   "cell_type": "code",
   "execution_count": 12,
   "metadata": {},
   "outputs": [
    {
     "data": {
      "text/plain": [
       "array([5.90490000e-06, 1.37781000e-04, 1.44670050e-03, 9.00169200e-03,\n",
       "       3.67569090e-02, 1.02919345e-01, 2.00120949e-01, 2.66827932e-01,\n",
       "       2.33474440e-01, 1.21060821e-01, 2.82475249e-02])"
      ]
     },
     "execution_count": 12,
     "metadata": {},
     "output_type": "execute_result"
    }
   ],
   "source": [
    "# Código de solución estudiante 1\n",
    "n= 10\n",
    "p= 0.7\n",
    "i= np.arange(0,n+1)\n",
    "def P(p,n,i):\n",
    "    return comb(n,i)*p**i*(1-p)**(n-i)\n",
    "\n",
    "a= P(p,n,i)\n",
    "a"
   ]
  },
  {
   "cell_type": "code",
   "execution_count": 13,
   "metadata": {
    "scrolled": true
   },
   "outputs": [
    {
     "data": {
      "text/plain": [
       "[5.9049000000000085e-06,\n",
       " 0.00013778100000000018,\n",
       " 0.0014467005000000017,\n",
       " 0.009001692000000009,\n",
       " 0.03675690900000003,\n",
       " 0.10291934520000008,\n",
       " 0.20012094900000013,\n",
       " 0.26682793200000016,\n",
       " 0.2334744405000001,\n",
       " 0.12106082100000003,\n",
       " 0.028247524900000005]"
      ]
     },
     "execution_count": 13,
     "metadata": {},
     "output_type": "execute_result"
    }
   ],
   "source": [
    "j= np.arange(0,n)\n",
    "b= [a[0]]\n",
    "for i in j:\n",
    "    b.append(b[-1]*((n-i)/(i+1))*(p/(1-p)))\n",
    "b"
   ]
  },
  {
   "cell_type": "markdown",
   "metadata": {},
   "source": [
    "Se puede observar que $a$ (los $p_i$ obtenidos con la PMF) y $b$ (los $p_i$ obtenidos con la ecuación recursiva) son iguales. Demostrando así la validez de la ecuación.\n",
    "\n",
    "Que la ecuación sea recursiva nos permite calcular el valor de $p_{i+1}$ de una manera sencilla y eficiente. La ecuación recursiva es más eficiente que la ecuación factorial original, y utiliza calculos mucho más sencillos."
   ]
  },
  {
   "cell_type": "markdown",
   "metadata": {},
   "source": [
    "Ahora validemos la ecuación matemáticamente.\n",
    "\n",
    "La distribución de probabilidad es:\n",
    "$$P(X=i)={n \\choose i}p^i(1-p)^{n-i}$$\n",
    "\n",
    "Escribimos la ecuación para $i+1$ y la desarrollamos:\n",
    "\n",
    "\\begin{align}\n",
    "P(X= i+1 )&={n \\choose i}p^{i+1}(1-p)^{n-(i+1)}\\\\\n",
    "&= \\frac{n!}{(n-i-1)!(i+1)!}p^{i+1}(1-p)^{n-(i+1)}\\\\\n",
    "&= \\frac{n!(n-x)}{(n-x)!x!(i+1)}p^i(1-p)^{n-i} \\frac{p}{1-p} \\\\\n",
    "&= (\\frac{n-i}{i+1})(\\frac{p}{1-p})\\frac{n!}{(n-i)!x!}p^i(1-p)^{n-i}\\\\\n",
    "&= (\\frac{n-i}{i+1})(\\frac{p}{1-p}) P(X=i)\\\\\n",
    "&= \\frac{n-i}{i+1}\\frac{p}{1-p} p_i\n",
    "\\end{align}"
   ]
  },
  {
   "cell_type": "code",
   "execution_count": 14,
   "metadata": {},
   "outputs": [
    {
     "data": {
      "text/plain": [
       "10"
      ]
     },
     "execution_count": 14,
     "metadata": {},
     "output_type": "execute_result"
    }
   ],
   "source": [
    "# Algoritmo que debemos realizar:\n",
    "n= 10\n",
    "p= 0.7\n",
    "i= np.arange(0,n+1)\n",
    "\n",
    "def algoritmo (p,n,i):\n",
    "    P = lambda p,n,m:comb(n,m)*p**m*(1-p)**(n-m)\n",
    "    X= P(p,n,i)\n",
    "    x= None\n",
    "    while x==None: \n",
    "        U= np.random.rand()\n",
    "        if U<X[0]:\n",
    "            x=0\n",
    "            return x\n",
    "            break\n",
    "        elif X[0]<U and U<(X[0]+X[1]):\n",
    "            x=1\n",
    "            return x\n",
    "            break\n",
    "        elif np.sum(X[:-1])<U and U<np.sum(X):\n",
    "            x=n\n",
    "            return x\n",
    "            break\n",
    "        \n",
    "algoritmo(p,n,i)   "
   ]
  },
  {
   "cell_type": "markdown",
   "metadata": {},
   "source": [
    "Código de solución estudiante 2"
   ]
  },
  {
   "cell_type": "code",
   "execution_count": null,
   "metadata": {},
   "outputs": [],
   "source": [
    "# Código de solución estudiante 2\n",
    ".\n",
    ".\n",
    ".\n",
    ".\n"
   ]
  },
  {
   "cell_type": "markdown",
   "metadata": {},
   "source": [
    "### Respuesta planteada en el ejercicio usando (markdown)\n",
    " La respuesta es ........."
   ]
  },
  {
   "cell_type": "markdown",
   "metadata": {},
   "source": [
    "### Ejercicio 3:"
   ]
  },
  {
   "cell_type": "markdown",
   "metadata": {},
   "source": [
    "Seguir un procedimiento similar al mostrado cuando se generó una distribución binomial, pero en esta caso genere un código que genere variables aletorias Poisson cuya función de distribución de probabilidad esta dada por:\n",
    ">$$P(k,\\lambda)=\\frac{e^{-\\lambda}(\\lambda)^k}{k!}$$\n",
    "    \n",
    "> Demuestre matemáticamente que \n",
    "> $$P(k+1)=\\frac{\\lambda}{k+1}P(k)$$\n",
    "> y a partir de esta relación genere variables aletorias que distribuyen poisson usando el método de la transformada inversa.\n",
    "\n",
    "Enlace: https://es.wikipedia.org/wiki/Distribuci%C3%B3n_de_Poisson\n",
    "\n",
    "$\n",
    "\\begin{aligned}\n",
    "\\frac{p_{k+1}}{p_k}& = \\frac{e^{-\\lambda}(\\lambda)^k}{k!} \\\\\n",
    "& = \\frac{e^{-\\lambda}(\\lambda)^k}{k!}\n",
    "\\end{aligned}\n",
    "$"
   ]
  },
  {
   "cell_type": "markdown",
   "metadata": {},
   "source": [
    "Código de solución estudiante 1"
   ]
  },
  {
   "cell_type": "markdown",
   "metadata": {},
   "source": [
    "Para demostrar la validez de la ecuación calcularemos $p_{i}$ con la PMF de la distribución binomial, que es:\n",
    "\n",
    "PMF $\\rightarrow p_i=P(X=i)={n \\choose i}p^i(1-p)^{n-i}, \\quad i=0,1,\\cdots,n$\n",
    "\n",
    "Y los compararemos con los $p_{i}$ obtenidos con la ecuación recursiva:\n",
    "\n",
    "$p_{i+1}=\\frac{n-i}{i+1}\\frac{p}{1-p} p_i $\n"
   ]
  },
  {
   "cell_type": "markdown",
   "metadata": {},
   "source": [
    "Código de solución estudiante 1"
   ]
  },
  {
   "cell_type": "markdown",
   "metadata": {},
   "source": [
    "\\begin{align}\n",
    "\\frac{P(X=k+1)}{P(X=k)} &= \\frac{\\frac{e^{-\\lambda}\\lambda^{k+1}}{(k+1)!}}{\\frac{e^{-\\lambda}\\lambda^k}{k!}} \\\\\n",
    "&= \\frac{\\lambda^{k+1}k!}{\\lambda^k(k+1)!} \\\\\n",
    "&= \\frac{\\lambda}{k+1}\n",
    "\\end{align}\n",
    "\n",
    "Por lo tanto:\n",
    "\n",
    "$$P(X=k+1)=\\frac{\\lambda}{k+1}P(X=k)$$\n",
    "\n",
    "$$ P(k+1)=\\frac{\\lambda}{k+1}P(k)$$\n",
    "\n",
    "\n"
   ]
  },
  {
   "cell_type": "code",
   "execution_count": 15,
   "metadata": {},
   "outputs": [],
   "source": [
    "# Código de solución estudiante 1\n",
    "\n",
    "def P_acum_Poisson(lamb,k, n):\n",
    "    Pr = np.zeros(n)\n",
    "    Pr[0] = ((np.exp(-lamb))*lamb**0)/ math.factorial(0)\n",
    "    def pr(k):\n",
    "        nonlocal Pr\n",
    "        Pr[k+1]=(lamb/(k+1))*Pr[k]\n",
    "        \n",
    "    # Lleno el vector Pr usando compresión de listas\n",
    "    [pr(k) for k in range(n-1)]\n",
    "    return np.cumsum(Pr)\n",
    "lamb= 4\n",
    "n=10**4\n",
    "k= np.arange(0,n+1)\n",
    "p_acum2 = P_acum_Poisson(lamb,k,n)\n",
    "poisson = Gen_distr_discreta(p_acum2, k, n)"
   ]
  },
  {
   "cell_type": "code",
   "execution_count": 16,
   "metadata": {
    "scrolled": true
   },
   "outputs": [
    {
     "data": {
      "image/png": "[encoded data removed]",
      "text/plain": [
       "<Figure size 1000x400 with 1 Axes>"
      ]
     },
     "metadata": {},
     "output_type": "display_data"
    }
   ],
   "source": [
    "plot_histogram_discrete(poisson, 'Con Función Creada' )"
   ]
  },
  {
   "cell_type": "markdown",
   "metadata": {},
   "source": [
    "Código de solución estudiante 2"
   ]
  },
  {
   "cell_type": "code",
   "execution_count": null,
   "metadata": {},
   "outputs": [],
   "source": [
    "# Código de solución estudiante 2\n",
    ".\n",
    ".\n",
    ".\n",
    ".\n"
   ]
  },
  {
   "cell_type": "markdown",
   "metadata": {},
   "source": [
    "### Respuesta planteada en el ejercicio usando (markdown)\n",
    " La respuesta es ........."
   ]
  }
 ],
 "metadata": {
  "kernelspec": {
   "display_name": "Python 3 (ipykernel)",
   "language": "python",
   "name": "python3"
  },
  "language_info": {
   "codemirror_mode": {
    "name": "ipython",
    "version": 3
   },
   "file_extension": ".py",
   "mimetype": "text/x-python",
   "name": "python",
   "nbconvert_exporter": "python",
   "pygments_lexer": "ipython3",
   "version": "3.9.13"
  }
 },
 "nbformat": 4,
 "nbformat_minor": 4
}
